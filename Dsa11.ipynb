{
  "nbformat": 4,
  "nbformat_minor": 0,
  "metadata": {
    "colab": {
      "provenance": [],
      "authorship_tag": "ABX9TyPrOZzBDipgB2CwvhEeqlJA",
      "include_colab_link": true
    },
    "kernelspec": {
      "name": "python3",
      "display_name": "Python 3"
    },
    "language_info": {
      "name": "python"
    }
  },
  "cells": [
    {
      "cell_type": "markdown",
      "metadata": {
        "id": "view-in-github",
        "colab_type": "text"
      },
      "source": [
        "<a href=\"https://colab.research.google.com/github/RakeshMishra26mgh/Dsa11/blob/main/Dsa11.ipynb\" target=\"_parent\"><img src=\"https://colab.research.google.com/assets/colab-badge.svg\" alt=\"Open In Colab\"/></a>"
      ]
    },
    {
      "cell_type": "markdown",
      "source": [
        "Answer 1:-"
      ],
      "metadata": {
        "id": "hEq_Js51hgG7"
      }
    },
    {
      "cell_type": "code",
      "source": [
        "def sqrt(x):\n",
        "  if x < 0:\n",
        "    raise ValueError(\"x cannot be negative\")\n",
        "  if x == 0 or x == 1:\n",
        "    return x\n",
        "  low = 1\n",
        "  high = x\n",
        "  ans = 0\n",
        "  while low <= high:\n",
        "    mid = (low + high) // 2\n",
        "    if mid * mid == x:\n",
        "      return mid\n",
        "    elif mid * mid < x:\n",
        "      low = mid + 1\n",
        "      ans = mid\n",
        "    else:\n",
        "      high = mid - 1\n",
        "  return ans\n",
        "\n",
        "x = int(input(\"Enter a non-negative integer: \"))\n",
        "try:\n",
        "  result = sqrt(x)\n",
        "  print(f\"The square root of {x} rounded down to the nearest integer is {result}\")\n",
        "except Exception as e:\n",
        "  print(f\"Error: {e}\")\n",
        "\n"
      ],
      "metadata": {
        "id": "AAlb1v6uhieL"
      },
      "execution_count": null,
      "outputs": []
    },
    {
      "cell_type": "markdown",
      "source": [
        "Answer 2:-"
      ],
      "metadata": {
        "id": "uC3Od4Eoj7H6"
      }
    },
    {
      "cell_type": "code",
      "source": [
        "def find_peak_element(nums):\n",
        "  if not nums:\n",
        "    raise ValueError(\"nums cannot be empty\")\n",
        "  if len(nums) == 1:\n",
        "    return 0\n",
        "  low = 0\n",
        "  high = len(nums) - 1\n",
        "  while low < high:\n",
        "    mid = (low + high) // 2\n",
        "    if nums[mid] > nums[mid + 1]:\n",
        "      high = mid\n",
        "    else:\n",
        "      low = mid + 1\n",
        "  return low\n",
        "\n",
        "nums = list(map(int, input(\"Enter a list of integers separated by spaces: \").split()))\n",
        "try:\n",
        "  result = find_peak_element(nums)\n",
        "  print(f\"A peak element in {nums} is at index {result}\")\n",
        "except Exception as e:\n",
        "  print(f\"Error: {e}\")\n",
        "\n"
      ],
      "metadata": {
        "id": "r5eK_yGCj9xz"
      },
      "execution_count": null,
      "outputs": []
    },
    {
      "cell_type": "markdown",
      "source": [
        "Answer 3:-"
      ],
      "metadata": {
        "id": "z2Oxdz1mlYMp"
      }
    },
    {
      "cell_type": "code",
      "source": [
        "def missing_number(nums):\n",
        "  if not nums:\n",
        "    raise ValueError(\"nums cannot be empty\")\n",
        "  n = len(nums)\n",
        "  sum_nums = sum(nums)\n",
        "  sum_range = n * (n + 1) // 2\n",
        "  return sum_range - sum_nums\n",
        "\n",
        "nums = list(map(int, input(\"Enter a list of distinct integers in the range [0, n] separated by spaces: \").split()))\n",
        "try:\n",
        "  result = missing_number(nums)\n",
        "  print(f\"The missing number in {nums} is {result}\")\n",
        "except Exception as e:\n",
        "  print(f\"Error: {e}\")\n",
        "\n"
      ],
      "metadata": {
        "id": "2qscLn8ilaxY"
      },
      "execution_count": null,
      "outputs": []
    },
    {
      "cell_type": "markdown",
      "source": [
        "Answr 4:-"
      ],
      "metadata": {
        "id": "gh9ZH5ySmYiQ"
      }
    },
    {
      "cell_type": "code",
      "source": [
        "def find_duplicate(nums):\n",
        "  if not nums or len(nums) == 1:\n",
        "    raise ValueError(\"nums must have at least two elements\")\n",
        "  slow = fast = nums[0]\n",
        "  while True:\n",
        "    slow = nums[slow]\n",
        "    fast = nums[nums[fast]]\n",
        "    if slow == fast:\n",
        "      break\n",
        "  slow = nums[0]\n",
        "  while slow != fast:\n",
        "    slow = nums[slow]\n",
        "    fast = nums[fast]\n",
        "  return slow\n",
        "\n",
        "nums = list(map(int, input(\"Enter a list of integers in the range [1, n] containing n + 1 integers separated by spaces: \").split()))\n",
        "try:\n",
        "  result = find_duplicate(nums)\n",
        "  print(f\"The repeated number in {nums} is {result}\")\n",
        "except Exception as e:\n",
        "  print(f\"Error: {e}\")\n",
        "\n"
      ],
      "metadata": {
        "id": "YslB2PbZmaHh"
      },
      "execution_count": null,
      "outputs": []
    },
    {
      "cell_type": "markdown",
      "source": [
        "Answer 5:-"
      ],
      "metadata": {
        "id": "7c9e7alnn_u3"
      }
    },
    {
      "cell_type": "code",
      "source": [
        "def intersection(nums1, nums2):\n",
        "  set1 = set(nums1)\n",
        "  set2 = set(nums2)\n",
        "  return list(set1 & set2)\n",
        "\n",
        "nums1 = list(map(int, input(\"Enter a list of integers separated by spaces: \").split()))\n",
        "nums2 = list(map(int, input(\"Enter another list of integers separated by spaces: \").split()))\n",
        "result = intersection(nums1, nums2)\n",
        "print(f\"The intersection of {nums1} and {nums2} is {result}\")\n",
        "\n"
      ],
      "metadata": {
        "id": "BChA4BCYoCTH"
      },
      "execution_count": null,
      "outputs": []
    },
    {
      "cell_type": "markdown",
      "source": [
        "Answer 6:-"
      ],
      "metadata": {
        "id": "Qya-W4Owqd4V"
      }
    },
    {
      "cell_type": "code",
      "source": [
        "def find_min(nums):\n",
        "  if not nums:\n",
        "    raise ValueError(\"nums cannot be empty\")\n",
        "  if len(nums) == 1:\n",
        "    return nums[0]\n",
        "  low = 0\n",
        "  high = len(nums) - 1\n",
        "  while low < high:\n",
        "    mid = (low + high) // 2\n",
        "    if nums[mid] < nums[high]:\n",
        "      high = mid\n",
        "    else:\n",
        "      low = mid + 1\n",
        "  return nums[low]\n",
        "\n",
        "nums = list(map(int, input(\"Enter a list of unique integers sorted in ascending order and rotated between 1 and n times separated by spaces: \").split()))\n",
        "try:\n",
        "  result = find_min(nums)\n",
        "  print(f\"The minimum element in {nums} is {result}\")\n",
        "except Exception as e:\n",
        "  print(f\"Error: {e}\")\n",
        "\n"
      ],
      "metadata": {
        "id": "eGsKqVt9qge-"
      },
      "execution_count": null,
      "outputs": []
    },
    {
      "cell_type": "markdown",
      "source": [
        "Answer 7:-"
      ],
      "metadata": {
        "id": "6mu7JihavGbS"
      }
    },
    {
      "cell_type": "code",
      "source": [
        "def search_range(nums, target):\n",
        "  if not nums:\n",
        "    return [-1, -1]\n",
        "  low = 0\n",
        "  high = len(nums) - 1\n",
        "  start = end = -1\n",
        "  while low <= high:\n",
        "    mid = (low + high) // 2\n",
        "    if nums[mid] == target:\n",
        "      start = end = mid\n",
        "      while start > 0 and nums[start - 1] == target:\n",
        "        start -= 1\n",
        "      while end < len(nums) - 1 and nums[end + 1] == target:\n",
        "        end += 1\n",
        "      break\n",
        "    elif nums[mid] < target:\n",
        "      low = mid + 1\n",
        "    else:\n",
        "      high = mid - 1\n",
        "  return [start, end]\n",
        "\n",
        "nums = list(map(int, input(\"Enter a list of integers sorted in non-decreasing order separated by spaces: \").split()))\n",
        "target = int(input(\"Enter a target value: \"))\n",
        "result = search_range(nums, target)\n",
        "print(f\"The starting and ending position of {target} in {nums} is {result}\")\n",
        "\n"
      ],
      "metadata": {
        "id": "bNoqa4AovIzS"
      },
      "execution_count": null,
      "outputs": []
    },
    {
      "cell_type": "markdown",
      "source": [
        "Answer 8 :-"
      ],
      "metadata": {
        "id": "K8QsSeKCvoUR"
      }
    },
    {
      "cell_type": "code",
      "source": [
        "def intersect(nums1, nums2):\n",
        "  result = []\n",
        "  set1 = set(nums1)\n",
        "  set2 = set(nums2)\n",
        "  for num in set1:\n",
        "    if num in set2:\n",
        "      result.extend([num] * min(nums1.count(num), nums2.count(num)))\n",
        "  return result\n",
        "\n",
        "nums1 = input(\"Enter the first array of integers separated by commas: \")\n",
        "nums1 = [int(x) for x in nums1.split(\",\")]\n",
        "\n",
        "nums2 = input(\"Enter the second array of integers separated by commas: \")\n",
        "nums2 = [int(x) for x in nums2.split(\",\")]\n",
        "\n",
        "print(intersect(nums1, nums2))\n"
      ],
      "metadata": {
        "id": "ichcqgFOvrNZ"
      },
      "execution_count": null,
      "outputs": []
    }
  ]
}